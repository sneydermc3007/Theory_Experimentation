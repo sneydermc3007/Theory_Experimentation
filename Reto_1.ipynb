{
 "cells": [
  {
   "cell_type": "markdown",
   "source": [
    "# Reto temperatura\n",
    "\n",
    "## Carga de datos"
   ],
   "metadata": {
    "collapsed": false,
    "pycharm": {
     "name": "#%% md\n"
    }
   }
  },
  {
   "cell_type": "code",
   "execution_count": 1,
   "outputs": [
    {
     "data": {
      "text/plain": "<Figure size 432x288 with 1 Axes>",
      "image/png": "[encoded data removed]"
     },
     "metadata": {
      "needs_background": "light"
     },
     "output_type": "display_data"
    }
   ],
   "source": [
    "import numpy as np\n",
    "import matplotlib.pyplot as plt\n",
    "\n",
    "X = np.array([1,2,3,4,5,6,7,8,9,10,11,12,13,14,15,16,17,18,19,20,21,22,23,24,25,26,27,28,29,30,31,32,33,34,35])\n",
    "Y = np.array([42.7, 41.7, 42.1, 41, 40.7, 40.5, 40.5, 40.1, 39.9, 39.5, 39.2, 38.8, 38.6, 38.2, 37.9, 37.5, 37.3, 37, 36.7, 36.5, 36.1, 36.3, 35.5,\n",
    "               35.5, 35.4, 35.3, 34.9, 34.8, 34.2, 34.1, 33.9, 33.8, 33.6, 33.4, 32.8])\n",
    "\n",
    "plt.plot(X, Y, '*b')\n",
    "plt.xlabel('Tiempo')\n",
    "plt.ylabel('Temperatura')\n",
    "plt.grid()"
   ],
   "metadata": {
    "collapsed": false,
    "pycharm": {
     "name": "#%%\n"
    }
   }
  },
  {
   "cell_type": "code",
   "execution_count": 1,
   "outputs": [],
   "source": [],
   "metadata": {
    "collapsed": false,
    "pycharm": {
     "name": "#%%\n"
    }
   }
  }
 ],
 "metadata": {
  "kernelspec": {
   "display_name": "Python 3",
   "language": "python",
   "name": "python3"
  },
  "language_info": {
   "codemirror_mode": {
    "name": "ipython",
    "version": 2
   },
   "file_extension": ".py",
   "mimetype": "text/x-python",
   "name": "python",
   "nbconvert_exporter": "python",
   "pygments_lexer": "ipython2",
   "version": "2.7.6"
  }
 },
 "nbformat": 4,
 "nbformat_minor": 0
}