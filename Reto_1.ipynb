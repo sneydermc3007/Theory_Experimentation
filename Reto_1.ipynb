{
 "nbformat": 4,
 "nbformat_minor": 0,
 "metadata": {
  "colab": {
   "name": "Reto1.ipynb",
   "provenance": [],
   "collapsed_sections": []
  },
  "kernelspec": {
   "name": "python3",
   "display_name": "Python 3"
  },
  "language_info": {
   "name": "python"
  }
 },
 "cells": [
  {
   "cell_type": "code",
   "source": [
    "import numpy as np\n",
    "import matplotlib.pyplot as plt\n",
    "import math as M"
   ],
   "metadata": {
    "id": "SUTpXjZcdIcx",
    "pycharm": {
     "name": "#%%\n"
    }
   },
   "execution_count": 1,
   "outputs": []
  },
  {
   "cell_type": "markdown",
   "source": [
    "## Lectura de datos"
   ],
   "metadata": {
    "id": "s2zYC_kXJG_5",
    "pycharm": {
     "name": "#%% md\n"
    }
   }
  },
  {
   "cell_type": "code",
   "execution_count": 2,
   "metadata": {
    "id": "xeNEf2NYcObb",
    "colab": {
     "base_uri": "https://localhost:8080/",
     "height": 295
    },
    "outputId": "9c1e9a66-7b55-4c29-9daa-0f5a73d1ad5b",
    "pycharm": {
     "name": "#%%\n"
    }
   },
   "outputs": [
    {
     "data": {
      "text/plain": "<Figure size 432x288 with 1 Axes>",
      "image/png": "[encoded data removed]"
     },
     "metadata": {
      "needs_background": "light"
     },
     "output_type": "display_data"
    }
   ],
   "source": [
    "x = np.array([1,2,3,4,5,6,7,8,9,10,11,12,13,14,15,16,17,18,19,20,21,22,23,24,25,26,27,28,29,30,31,32,33,34,35])\n",
    "y = np.array([42.7, 41.7, 42.1, 41, 40.7, 40.5, 40.5, 40.1, 39.9, 39.5, 39.2, 38.8, 38.6, 38.2, 37.9, 37.5, 37.3, 37, 36.7, 36.5, 36.1, 36.3, 35.5,\n",
    "               35.5, 35.4, 35.3, 34.9, 34.8, 34.2, 34.1, 33.9, 33.8, 33.6, 33.4, 32.8])\n",
    "\n",
    "plt.plot(x, y, '*b')\n",
    "plt.title('Muestra 1')\n",
    "plt.xlabel('Muestra')\n",
    "plt.ylabel('Temperatura')\n",
    "plt.grid()"
   ]
  },
  {
   "cell_type": "code",
   "source": [
    "A = np.array([1,2,3,4,5,6,7,8,9,10,11,12,13,14,15,16,17,18,19,20,21,22,23,24,25,26,27,28,29,30,31,32,33,34,35])\n",
    "B = np.array([39.8, 39.4, 39.2, 38.9, 38.6, 38.5, 38.2, 38.1, 37.9, 37.7, 37.5, 37.3, 37.1, 36.8, 36.8, 36.4, 36.4, 36.3, 36.1, 36, 35.8, 35.6,\n",
    "              35.5, 35.3, 35.3, 35.2, 35.1, 35, 34.9, 34.8, 34.6, 34.5, 34.3, 34.1, 34])\n",
    "\n",
    "plt.plot(A, B, '*r')\n",
    "plt.title('Dataset 2')\n",
    "plt.xlabel('Muestra')\n",
    "plt.ylabel('Temperatura')\n",
    "plt.grid()"
   ],
   "metadata": {
    "id": "9v_BoT7QJKPq",
    "colab": {
     "base_uri": "https://localhost:8080/",
     "height": 295
    },
    "outputId": "e21e21db-0263-4f10-89a4-fd07a52d7853",
    "pycharm": {
     "name": "#%%\n"
    }
   },
   "execution_count": 3,
   "outputs": [
    {
     "data": {
      "text/plain": "<Figure size 432x288 with 1 Axes>",
      "image/png": "[encoded data removed]"
     },
     "metadata": {
      "needs_background": "light"
     },
     "output_type": "display_data"
    }
   ]
  },
  {
   "cell_type": "code",
   "source": [
    "C = np.array([1,2,3,4,5,6,7,8,9,10,11,12,13,14,15,16,17,18,19,20,21,22,23,24,25,26,27,28,29,30,31,32,33,34,35])\n",
    "D = np.array([36.6, 36.4, 36.3, 36.2, 36, 35.9, 35.7, 35.5, 35.3, 35.2, 35, 34.8, 34.7, 34.6, 34.4, 34.3, 34.1, 33.9, 33.7, 33.5, 33.3, 33.2, 33.1, 32.9,\n",
    "              32.7, 32.6, 32.6, 32.5, 32.4, 32.3, 32.2, 32.1, 32, 32, 32])\n",
    "\n",
    "plt.plot(C, D, '*g')\n",
    "plt.title('Dataset 3')\n",
    "plt.xlabel('Muestra')\n",
    "plt.ylabel('Temperatura')\n",
    "plt.grid()"
   ],
   "metadata": {
    "id": "4lE_Rq8OJNCl",
    "colab": {
     "base_uri": "https://localhost:8080/",
     "height": 295
    },
    "outputId": "c8378e5a-8b18-4376-9b41-860b44c6c61a",
    "pycharm": {
     "name": "#%%\n"
    }
   },
   "execution_count": 4,
   "outputs": [
    {
     "data": {
      "text/plain": "<Figure size 432x288 with 1 Axes>",
      "image/png": "[encoded data removed]"
     },
     "metadata": {
      "needs_background": "light"
     },
     "output_type": "display_data"
    }
   ]
  },
  {
   "cell_type": "markdown",
   "source": [
    "## Funciones para realizar las regresiones "
   ],
   "metadata": {
    "id": "QFcZKOz36Nsl",
    "pycharm": {
     "name": "#%% md\n"
    }
   }
  },
  {
   "cell_type": "markdown",
   "source": [
    "Regresión Lineal"
   ],
   "metadata": {
    "id": "19xwCd16fWW-",
    "pycharm": {
     "name": "#%% md\n"
    }
   }
  },
  {
   "cell_type": "code",
   "source": [
    "def regre_lineal(x,y):\n",
    "  x1=x[0]\n",
    "  y1=y[0]\n",
    "  x2=x[10]\n",
    "  y2=y[10]\n",
    "\n",
    "  #Modelos lineales\n",
    "  m = (y2-y1)/(x2-x1)\n",
    "  ## y = mx + b -> b = y - (mx)\n",
    "  b = y1-(m*x1)\n",
    "  ## yn = mx + b\n",
    "  yn = m*x + b\n",
    "\n",
    "  ## Error\n",
    "  error = np.sqrt(sum((y-yn)**2)/len(y))\n",
    "  print('El error del modelo es: ', error)\n",
    "\n",
    "  plt.plot(x, y, '*g')\n",
    "  plt.plot(x, yn, '-b')"
   ],
   "metadata": {
    "id": "_lk0zJeyeu2m",
    "pycharm": {
     "name": "#%%\n"
    }
   },
   "execution_count": 5,
   "outputs": []
  },
  {
   "cell_type": "markdown",
   "source": [
    "Regresion cuadratica y superiores"
   ],
   "metadata": {
    "id": "ftc18TRp6qYO",
    "pycharm": {
     "name": "#%% md\n"
    }
   }
  },
  {
   "cell_type": "code",
   "source": [
    "def regresiones_Poli(x,y,num):\n",
    "  n = len(x)\n",
    "  datos = list()\n",
    "  for i in range(1,num*2+1,1):\n",
    "    datos.append(sum(x**i))\n",
    "\n",
    "  TI = list()\n",
    "  TI.append(sum(y))\n",
    "  for i in range(1, num+1):\n",
    "    TI.append(sum((x**i)*y))\n",
    "  \n",
    "  matriz = []\n",
    "  fila1 = []\n",
    "  fila1.append(n)\n",
    "  for i in range(num):\n",
    "    fila1.append(datos[i])\n",
    "  matriz.append(fila1)\n",
    "  fila = list()\n",
    "  print(\"\\t----Matriz----\\n\")\n",
    "  for j in range(num):\n",
    "    fila = datos[j:num+1+j]\n",
    "    matriz.append(fila)\n",
    "  matriz = np.array(matriz)\n",
    "  print(matriz)\n",
    "  print(\"\\n\\t----Matriz inversa----\\n\")\n",
    "  inversa = np.linalg.inv(matriz)\n",
    "  print(inversa)\n",
    "  print(\"\\n\\t----Solución----\")\n",
    "  solucion = np.dot(inversa, TI)\n",
    "  print(solucion, \"\\n\")\n",
    "  return solucion"
   ],
   "metadata": {
    "id": "JuUCg4RlW67j",
    "pycharm": {
     "name": "#%%\n"
    }
   },
   "execution_count": 6,
   "outputs": []
  },
  {
   "cell_type": "code",
   "source": [
    "# ## Ejemplo funcion \n",
    "\n",
    "# l = np.array([2,5]) # Vector de X\n",
    "# o = np.array([1,9]) # Vector de y\n",
    "\n",
    "# # regresion cuadratica\n",
    "# coeficientes = regresiones_Poli(l,o,2) # Ultimo parametro = grado de la regresión\n",
    "# print(\"Regresión cuadratica: Y = \",coeficientes[0],\"+\",coeficientes[1],\"X +\",coeficientes[2],\"x²\")\n",
    "\n",
    "# # regresion Cubica\n",
    "# coeficientes3 = regresiones_Poli(l,o,3) # Ultimo parametro = grado de la regresión\n",
    "# print(\"Regresión Cubica: Y = \",coeficientes3[0],\"+\",coeficientes3[1],\"X +\",coeficientes3[2],\"x² +\",coeficientes3[3],\"x³\")\n",
    "\n",
    "# ## Se puede realizar con cualquier nivel"
   ],
   "metadata": {
    "id": "Jo6WTAtt9Vt6",
    "pycharm": {
     "name": "#%%\n"
    }
   },
   "execution_count": 7,
   "outputs": []
  },
  {
   "cell_type": "markdown",
   "source": [
    "Reresión con datos estadisticos"
   ],
   "metadata": {
    "id": "sNt5xgSyhsO2",
    "pycharm": {
     "name": "#%% md\n"
    }
   }
  },
  {
   "cell_type": "code",
   "source": [
    "def regre_estadistico(x,y):\n",
    "  n = len(x)\n",
    "  #Calcular la media\n",
    "  Accux=0\n",
    "  Accuy=0\n",
    "  for i in range(0,n,1):\n",
    "    Accux=Accux+x[i]\n",
    "    Accuy=Accuy+y[i]\n",
    "\n",
    "  Mediax=Accux/n\n",
    "  Mediay=Accuy/n\n",
    "  print(\"Media x\", Mediax)\n",
    "  print(\"Media y\", Mediay)\n",
    "\n",
    "  dex=0\n",
    "  dey=0\n",
    "  #Desviación estandar\n",
    "  for i in range(0,n,1):\n",
    "    dex = dex+(x[i]-Mediax)**2\n",
    "    dey = dey+(y[i]-Mediay)**2\n",
    "\n",
    "  dex = M.sqrt(dex/n)\n",
    "  dey = M.sqrt(dey/n)\n",
    "  print(\"La varianza de x es igual a: \", dex)\n",
    "  print(\"La desviación estandar de x es igual a: \", dex)\n",
    "  print(\"La varianza de y es igual a: \", dex)\n",
    "  print(\"La desviación estandar de y es igual a: \", dey)\n",
    "\n",
    "  #Covarianza\n",
    "  vt = 0\n",
    "  for i in range(0,n,1):\n",
    "    vt = vt+((x[i]-Mediax)*(y[i]-Mediay)/n)\n",
    "  print(\"La covarianza es igual a: \", vt)\n",
    "\n",
    "  #Correlación\n",
    "  r = vt/(dex*dey)\n",
    "  print(r)\n",
    "\n",
    "  #Ecuación de la recta, calcular m y b\n",
    "  m = vt/dex**2\n",
    "  print(\"La pendiente es: \", m)\n",
    "\n",
    "  b = Mediay - (m * Mediax)\n",
    "  print(\"El intercepto b corresponde a: \", b)\n",
    "\n",
    "  yn = m * x+b\n",
    "\n",
    "  plt.plot(x, yn, '-r')\n",
    "  plt.plot(x, y, '.b')\n",
    "\n",
    "  ## Error\n",
    "  error = np.sqrt(sum((y-yn)**2)/len(y))\n",
    "  print('El error del modelo es: ', error)"
   ],
   "metadata": {
    "id": "Fj4_weM3husZ",
    "pycharm": {
     "name": "#%%\n"
    }
   },
   "execution_count": 8,
   "outputs": []
  },
  {
   "cell_type": "markdown",
   "source": [
    "## Procesamiento Dataframes"
   ],
   "metadata": {
    "id": "hYovA9iS7Hse",
    "pycharm": {
     "name": "#%% md\n"
    }
   }
  },
  {
   "cell_type": "markdown",
   "source": [
    "# Dataframe1"
   ],
   "metadata": {
    "id": "3OgtmCa18B8h",
    "pycharm": {
     "name": "#%% md\n"
    }
   }
  },
  {
   "cell_type": "code",
   "source": [
    "# Lineal\n",
    "regre_lineal(x,y)"
   ],
   "metadata": {
    "colab": {
     "base_uri": "https://localhost:8080/",
     "height": 282
    },
    "id": "1iitflSG62Wg",
    "outputId": "bf4b76cf-e469-432b-e3af-b59fa4402b9e",
    "pycharm": {
     "name": "#%%\n"
    }
   },
   "execution_count": 9,
   "outputs": [
    {
     "name": "stdout",
     "output_type": "stream",
     "text": [
      "El error del modelo es:  1.004169877489429\n"
     ]
    },
    {
     "data": {
      "text/plain": "<Figure size 432x288 with 1 Axes>",
      "image/png": "[encoded data removed]"
     },
     "metadata": {
      "needs_background": "light"
     },
     "output_type": "display_data"
    }
   ]
  },
  {
   "cell_type": "code",
   "source": [
    "# Cuadratica\n",
    "solucion = regresiones_Poli(x,y,2)\n",
    "## Graficación del modelo\n",
    "# y = a + bx + cx²\n",
    "fn = solucion[0] + solucion[1]*x + solucion[2]*x**2\n",
    "plt.plot(x, y,'*b')\n",
    "plt.plot(x, fn, '-r')\n",
    "## Error\n",
    "error = np.sqrt(sum((y-fn)**2)/len(y))\n",
    "print('El error del modelo es: ', error)"
   ],
   "metadata": {
    "colab": {
     "base_uri": "https://localhost:8080/",
     "height": 543
    },
    "id": "0NgULrDh8NZP",
    "outputId": "3c93255a-ecd6-4f3c-a74b-828732afd449",
    "pycharm": {
     "name": "#%%\n"
    }
   },
   "execution_count": 10,
   "outputs": [
    {
     "name": "stdout",
     "output_type": "stream",
     "text": [
      "\t----Matriz----\n",
      "\n",
      "[[      35      630    14910]\n",
      " [     630    14910   396900]\n",
      " [   14910   396900 11268978]]\n",
      "\n",
      "\t----Matriz inversa----\n",
      "\n",
      "[[ 2.88922842e-01 -3.25439267e-02  7.63941940e-04]\n",
      " [-3.25439267e-02  4.73988121e-03 -1.23882477e-04]\n",
      " [ 7.63941940e-04 -1.23882477e-04  3.44117991e-06]]\n",
      "\n",
      "\t----Solución----\n",
      "[ 4.27255921e+01 -3.54509666e-01  2.27668463e-03] \n",
      "\n",
      "El error del modelo es:  0.1871902403946566\n"
     ]
    },
    {
     "data": {
      "text/plain": "<Figure size 432x288 with 1 Axes>",
      "image/png": "[encoded data removed]"
     },
     "metadata": {
      "needs_background": "light"
     },
     "output_type": "display_data"
    }
   ]
  },
  {
   "cell_type": "code",
   "source": [
    "# Cubica\n",
    "solucion = regresiones_Poli(x,y,3)\n",
    "## Graficación del modelo\n",
    "# y = a + bx + cx² + dx³\n",
    "fn = solucion[0] + solucion[1]*x + solucion[2]*x**2 + solucion[3]*x**3\n",
    "plt.plot(x, y,'*b')\n",
    "plt.plot(x, fn, '-r')\n",
    "plt.xlabel('Datos entrada')\n",
    "plt.ylabel('Datos salida')\n",
    "## Error\n",
    "error = np.sqrt(sum((y-fn)**2)/len(y))\n",
    "print('El error del modelo es: ', error)"
   ],
   "metadata": {
    "colab": {
     "base_uri": "https://localhost:8080/",
     "height": 591
    },
    "id": "R_CSN5Pa-TPW",
    "outputId": "c2169147-76f2-4263-a319-c8fcb60c80eb",
    "pycharm": {
     "name": "#%%\n"
    }
   },
   "execution_count": 11,
   "outputs": [
    {
     "name": "stdout",
     "output_type": "stream",
     "text": [
      "\t----Matriz----\n",
      "\n",
      "[[        35        630      14910     396900]\n",
      " [       630      14910     396900   11268978]\n",
      " [     14910     396900   11268978  333263700]\n",
      " [    396900   11268978  333263700 1546780138]]\n",
      "\n",
      "\t----Matriz inversa----\n",
      "\n",
      "[[ 2.88175231e-01 -3.23109702e-02  7.47990065e-04  2.95405108e-07]\n",
      " [-3.23109702e-02  4.66729172e-03 -1.18911855e-04 -9.20485492e-08]\n",
      " [ 7.47990065e-04 -1.18911855e-04  3.10081272e-06  6.30309619e-09]\n",
      " [ 2.95405108e-07 -9.20485492e-08  6.30309619e-09 -1.16724004e-10]]\n",
      "\n",
      "\t----Solución----\n",
      "[ 4.27253872e+01 -3.54445821e-01  2.27231280e-03  8.09597689e-08] \n",
      "\n",
      "El error del modelo es:  0.1871988224742753\n"
     ]
    },
    {
     "name": "stderr",
     "output_type": "stream",
     "text": [
      "C:\\Users\\sneyd\\AppData\\Local\\Temp\\ipykernel_3840\\3583885145.py:5: RuntimeWarning: overflow encountered in int_scalars\n",
      "  datos.append(sum(x**i))\n"
     ]
    },
    {
     "data": {
      "text/plain": "<Figure size 432x288 with 1 Axes>",
      "image/png": "[encoded data removed]"
     },
     "metadata": {
      "needs_background": "light"
     },
     "output_type": "display_data"
    }
   ]
  },
  {
   "cell_type": "code",
   "source": [
    "# Estadistica\n",
    "regre_estadistico(x,y)"
   ],
   "metadata": {
    "colab": {
     "base_uri": "https://localhost:8080/",
     "height": 456
    },
    "id": "lbtviXfY-5HM",
    "outputId": "1458cf27-a41c-4e38-be9d-8137c02efdee",
    "pycharm": {
     "name": "#%%\n"
    }
   },
   "execution_count": 12,
   "outputs": [
    {
     "name": "stdout",
     "output_type": "stream",
     "text": [
      "Media x 18.0\n",
      "Media y 37.31428571428571\n",
      "La varianza de x es igual a:  10.099504938362077\n",
      "La desviación estandar de x es igual a:  10.099504938362077\n",
      "La varianza de y es igual a:  10.099504938362077\n",
      "La desviación estandar de y es igual a:  2.7667560021639437\n",
      "La covarianza es igual a:  -27.80000000000001\n",
      "-0.9948872135173018\n",
      "La pendiente es:  -0.2725490196078433\n",
      "El intercepto b corresponde a:  42.220168067226886\n",
      "El error del modelo es:  0.2794208839943156\n"
     ]
    },
    {
     "data": {
      "text/plain": "<Figure size 432x288 with 1 Axes>",
      "image/png": "[encoded data removed]"
     },
     "metadata": {
      "needs_background": "light"
     },
     "output_type": "display_data"
    }
   ]
  },
  {
   "cell_type": "markdown",
   "source": [
    "# Dataframe2"
   ],
   "metadata": {
    "id": "uLBqiwkg_Zta",
    "pycharm": {
     "name": "#%% md\n"
    }
   }
  },
  {
   "cell_type": "code",
   "source": [
    "# Lineal\n",
    "regre_lineal(A,B)"
   ],
   "metadata": {
    "colab": {
     "base_uri": "https://localhost:8080/",
     "height": 282
    },
    "id": "cZMb6qNW_aXw",
    "outputId": "ec23051c-e0c6-4d27-80d4-0a35f378cc94",
    "pycharm": {
     "name": "#%%\n"
    }
   },
   "execution_count": 13,
   "outputs": [
    {
     "name": "stdout",
     "output_type": "stream",
     "text": [
      "El error del modelo es:  0.9492026729238121\n"
     ]
    },
    {
     "data": {
      "text/plain": "<Figure size 432x288 with 1 Axes>",
      "image/png": "[encoded data removed]"
     },
     "metadata": {
      "needs_background": "light"
     },
     "output_type": "display_data"
    }
   ]
  },
  {
   "cell_type": "code",
   "source": [
    "# Cuadratica\n",
    "solucion = regresiones_Poli(A,B,2)\n",
    "## Graficación del modelo\n",
    "# y = a + bx + cx²\n",
    "fn = solucion[0] + solucion[1]*A + solucion[2]*A**2\n",
    "plt.plot(A, B,'*b')\n",
    "plt.plot(A, fn, '-r')\n",
    "## Error\n",
    "error = np.sqrt(sum((B-fn)**2)/len(B))\n",
    "print('El error del modelo es: ', error)"
   ],
   "metadata": {
    "colab": {
     "base_uri": "https://localhost:8080/",
     "height": 544
    },
    "id": "cf7voVc2_qsy",
    "outputId": "09d7a861-28eb-4c56-ff28-2571d4169a73",
    "pycharm": {
     "name": "#%%\n"
    }
   },
   "execution_count": 14,
   "outputs": [
    {
     "name": "stdout",
     "output_type": "stream",
     "text": [
      "\t----Matriz----\n",
      "\n",
      "[[      35      630    14910]\n",
      " [     630    14910   396900]\n",
      " [   14910   396900 11268978]]\n",
      "\n",
      "\t----Matriz inversa----\n",
      "\n",
      "[[ 2.88922842e-01 -3.25439267e-02  7.63941940e-04]\n",
      " [-3.25439267e-02  4.73988121e-03 -1.23882477e-04]\n",
      " [ 7.63941940e-04 -1.23882477e-04  3.44117991e-06]]\n",
      "\n",
      "\t----Solución----\n",
      "[ 3.98598319e+01 -2.39858430e-01  2.21439927e-03] \n",
      "\n",
      "El error del modelo es:  0.08714867141468481\n"
     ]
    },
    {
     "data": {
      "text/plain": "<Figure size 432x288 with 1 Axes>",
      "image/png": "[encoded data removed]"
     },
     "metadata": {
      "needs_background": "light"
     },
     "output_type": "display_data"
    }
   ]
  },
  {
   "cell_type": "code",
   "source": [
    "# Cubica\n",
    "solucion = regresiones_Poli(A,B,3)\n",
    "## Graficación del modelo\n",
    "# y = a + bx + cx² + dx³\n",
    "fn = solucion[0] + solucion[1]*A + solucion[2]*A**2 + solucion[3]*A**3\n",
    "plt.plot(A, B,'*b')\n",
    "plt.plot(A, fn, '-r')\n",
    "plt.xlabel('Datos entrada')\n",
    "plt.ylabel('Datos salida')\n",
    "## Error\n",
    "error = np.sqrt(sum((B-fn)**2)/len(B))\n",
    "print('El error del modelo es: ', error)"
   ],
   "metadata": {
    "colab": {
     "base_uri": "https://localhost:8080/",
     "height": 592
    },
    "id": "WpbRbWwD_uVU",
    "outputId": "a871e01f-c676-4484-84fe-937b9c499e11",
    "pycharm": {
     "name": "#%%\n"
    }
   },
   "execution_count": 15,
   "outputs": [
    {
     "name": "stderr",
     "output_type": "stream",
     "text": [
      "C:\\Users\\sneyd\\AppData\\Local\\Temp\\ipykernel_3840\\3583885145.py:5: RuntimeWarning: overflow encountered in int_scalars\n",
      "  datos.append(sum(x**i))\n"
     ]
    },
    {
     "name": "stdout",
     "output_type": "stream",
     "text": [
      "\t----Matriz----\n",
      "\n",
      "[[        35        630      14910     396900]\n",
      " [       630      14910     396900   11268978]\n",
      " [     14910     396900   11268978  333263700]\n",
      " [    396900   11268978  333263700 1546780138]]\n",
      "\n",
      "\t----Matriz inversa----\n",
      "\n",
      "[[ 2.88175231e-01 -3.23109702e-02  7.47990065e-04  2.95405108e-07]\n",
      " [-3.23109702e-02  4.66729172e-03 -1.18911855e-04 -9.20485492e-08]\n",
      " [ 7.47990065e-04 -1.18911855e-04  3.10081272e-06  6.30309619e-09]\n",
      " [ 2.95405108e-07 -9.20485492e-08  6.30309619e-09 -1.16724004e-10]]\n",
      "\n",
      "\t----Solución----\n",
      "[ 3.98594023e+01 -2.39724543e-01  2.20523129e-03  1.69777398e-07] \n",
      "\n",
      "El error del modelo es:  0.08722970112715886\n"
     ]
    },
    {
     "data": {
      "text/plain": "<Figure size 432x288 with 1 Axes>",
      "image/png": "[encoded data removed]"
     },
     "metadata": {
      "needs_background": "light"
     },
     "output_type": "display_data"
    }
   ]
  },
  {
   "cell_type": "code",
   "source": [
    "# Estadistica\n",
    "regre_estadistico(A,B)"
   ],
   "metadata": {
    "colab": {
     "base_uri": "https://localhost:8080/",
     "height": 457
    },
    "id": "XcMC4cFs_3DM",
    "outputId": "678638df-01ba-4377-e9a7-74688df914e0",
    "pycharm": {
     "name": "#%%\n"
    }
   },
   "execution_count": 16,
   "outputs": [
    {
     "name": "stdout",
     "output_type": "stream",
     "text": [
      "Media x 18.0\n",
      "Media y 36.48571428571427\n",
      "La varianza de x es igual a:  10.099504938362077\n",
      "La desviación estandar de x es igual a:  10.099504938362077\n",
      "La varianza de y es igual a:  10.099504938362077\n",
      "La desviación estandar de y es igual a:  1.6322014681567532\n",
      "La covarianza es igual a:  -16.33428571428571\n",
      "-0.9908919445185632\n",
      "La pendiente es:  -0.16014005602240894\n",
      "El intercepto b corresponde a:  39.36823529411763\n",
      "El error del modelo es:  0.21979127207719723\n"
     ]
    },
    {
     "data": {
      "text/plain": "<Figure size 432x288 with 1 Axes>",
      "image/png": "[encoded data removed]"
     },
     "metadata": {
      "needs_background": "light"
     },
     "output_type": "display_data"
    }
   ]
  },
  {
   "cell_type": "markdown",
   "source": [
    "## Dataframe3"
   ],
   "metadata": {
    "id": "yfi_sMyV_8qU",
    "pycharm": {
     "name": "#%% md\n"
    }
   }
  },
  {
   "cell_type": "code",
   "source": [
    "# Lineal\n",
    "regre_lineal(C,D)"
   ],
   "metadata": {
    "colab": {
     "base_uri": "https://localhost:8080/",
     "height": 282
    },
    "id": "ttIW7Y6q_-i1",
    "outputId": "d9b8f1b1-2237-4d77-8971-71735aa73b21",
    "pycharm": {
     "name": "#%%\n"
    }
   },
   "execution_count": 17,
   "outputs": [
    {
     "name": "stdout",
     "output_type": "stream",
     "text": [
      "El error del modelo es:  0.2477325747079468\n"
     ]
    },
    {
     "data": {
      "text/plain": "<Figure size 432x288 with 1 Axes>",
      "image/png": "[encoded data removed]"
     },
     "metadata": {
      "needs_background": "light"
     },
     "output_type": "display_data"
    }
   ]
  },
  {
   "cell_type": "code",
   "source": [
    "# Cuadratica\n",
    "solucion = regresiones_Poli(C,D,2)\n",
    "## Graficación del modelo\n",
    "# y = a + bx + cx²\n",
    "fn = solucion[0] + solucion[1]*C + solucion[2]*C**2\n",
    "plt.plot(C, D,'*b')\n",
    "plt.plot(C, fn, '-r')\n",
    "## Error\n",
    "error = np.sqrt(sum((D-fn)**2)/len(D))\n",
    "print('El error del modelo es: ', error)"
   ],
   "metadata": {
    "colab": {
     "base_uri": "https://localhost:8080/",
     "height": 543
    },
    "id": "GNA841FnAFeh",
    "outputId": "3f034b1f-59ef-4594-bd49-d3e2216716ad",
    "pycharm": {
     "name": "#%%\n"
    }
   },
   "execution_count": 18,
   "outputs": [
    {
     "name": "stdout",
     "output_type": "stream",
     "text": [
      "\t----Matriz----\n",
      "\n",
      "[[      35      630    14910]\n",
      " [     630    14910   396900]\n",
      " [   14910   396900 11268978]]\n",
      "\n",
      "\t----Matriz inversa----\n",
      "\n",
      "[[ 2.88922842e-01 -3.25439267e-02  7.63941940e-04]\n",
      " [-3.25439267e-02  4.73988121e-03 -1.23882477e-04]\n",
      " [ 7.63941940e-04 -1.23882477e-04  3.44117991e-06]]\n",
      "\n",
      "\t----Solución----\n",
      "[ 3.69460963e+01 -1.97755181e-01  1.44013379e-03] \n",
      "\n",
      "El error del modelo es:  0.09748191394520861\n"
     ]
    },
    {
     "data": {
      "text/plain": "<Figure size 432x288 with 1 Axes>",
      "image/png": "[encoded data removed]"
     },
     "metadata": {
      "needs_background": "light"
     },
     "output_type": "display_data"
    }
   ]
  },
  {
   "cell_type": "code",
   "source": [
    "# Cubica\n",
    "solucion = regresiones_Poli(C,D,3)\n",
    "## Graficación del modelo\n",
    "# y = a + bx + cx² + dx³\n",
    "fn = solucion[0] + solucion[1]*C + solucion[2]*C**2 + solucion[3]*C**3\n",
    "plt.plot(C, D,'*b')\n",
    "plt.plot(C, fn, '-r')\n",
    "plt.xlabel('Datos entrada')\n",
    "plt.ylabel('Datos salida')\n",
    "## Error\n",
    "error = np.sqrt(sum((D-fn)**2)/len(D))\n",
    "print('El error del modelo es: ', error)"
   ],
   "metadata": {
    "colab": {
     "base_uri": "https://localhost:8080/",
     "height": 591
    },
    "id": "V1UwZG8-AKzl",
    "outputId": "828091cd-7b7c-4695-a173-744613fbd1cb",
    "pycharm": {
     "name": "#%%\n"
    }
   },
   "execution_count": 19,
   "outputs": [
    {
     "name": "stderr",
     "output_type": "stream",
     "text": [
      "C:\\Users\\sneyd\\AppData\\Local\\Temp\\ipykernel_3840\\3583885145.py:5: RuntimeWarning: overflow encountered in int_scalars\n",
      "  datos.append(sum(x**i))\n"
     ]
    },
    {
     "name": "stdout",
     "output_type": "stream",
     "text": [
      "\t----Matriz----\n",
      "\n",
      "[[        35        630      14910     396900]\n",
      " [       630      14910     396900   11268978]\n",
      " [     14910     396900   11268978  333263700]\n",
      " [    396900   11268978  333263700 1546780138]]\n",
      "\n",
      "\t----Matriz inversa----\n",
      "\n",
      "[[ 2.88175231e-01 -3.23109702e-02  7.47990065e-04  2.95405108e-07]\n",
      " [-3.23109702e-02  4.66729172e-03 -1.18911855e-04 -9.20485492e-08]\n",
      " [ 7.47990065e-04 -1.18911855e-04  3.10081272e-06  6.30309619e-09]\n",
      " [ 2.95405108e-07 -9.20485492e-08  6.30309619e-09 -1.16724004e-10]]\n",
      "\n",
      "\t----Solución----\n",
      "[ 3.69467938e+01 -1.97972540e-01  1.45501767e-03 -2.75627393e-07] \n",
      "\n",
      "El error del modelo es:  0.09767274234574773\n"
     ]
    },
    {
     "data": {
      "text/plain": "<Figure size 432x288 with 1 Axes>",
      "image/png": "[encoded data removed]"
     },
     "metadata": {
      "needs_background": "light"
     },
     "output_type": "display_data"
    }
   ]
  },
  {
   "cell_type": "code",
   "source": [
    "# Polinomica X4\n",
    "solucion = regresiones_Poli(C,D,6)\n",
    "## Graficación del modelo\n",
    "# y = a + bx + cx² + dx³\n",
    "fn = solucion[0] + solucion[1]*C + solucion[2]*C**2 + solucion[3]*C**3 + solucion[4]*C**4 + solucion[5]*C**5 + solucion[6]*C**6 \n",
    "plt.plot(C, D,'*b')\n",
    "plt.plot(C, fn, '-r')\n",
    "plt.xlabel('Datos entrada')\n",
    "plt.ylabel('Datos salida')\n",
    "## Error\n",
    "error = np.sqrt(sum((D-fn)**2)/len(D))\n",
    "print('El error del modelo es: ', error)"
   ],
   "metadata": {
    "colab": {
     "base_uri": "https://localhost:8080/",
     "height": 1000
    },
    "id": "2MAnbzWgYjyy",
    "outputId": "2547cd9b-8491-4768-df68-4a89421b094b",
    "pycharm": {
     "name": "#%%\n"
    }
   },
   "execution_count": 20,
   "outputs": [
    {
     "name": "stderr",
     "output_type": "stream",
     "text": [
      "C:\\Users\\sneyd\\AppData\\Local\\Temp\\ipykernel_3840\\3583885145.py:5: RuntimeWarning: overflow encountered in int_scalars\n",
      "  datos.append(sum(x**i))\n"
     ]
    },
    {
     "name": "stdout",
     "output_type": "stream",
     "text": [
      "\t----Matriz----\n",
      "\n",
      "[[         35         630       14910      396900    11268978   333263700\n",
      "   1546780138]\n",
      " [        630       14910      396900    11268978   333263700  1546780138\n",
      "   1193343692]\n",
      " [      14910      396900    11268978   333263700  1546780138  1193343692\n",
      "    429823922]\n",
      " [     396900    11268978   333263700  1546780138  1193343692   429823922\n",
      "  -1231380956]\n",
      " [   11268978   333263700  1546780138  1193343692   429823922 -1231380956\n",
      "  -1375312390]\n",
      " [  333263700  1546780138  1193343692   429823922 -1231380956 -1375312390\n",
      "  -1090147140]\n",
      " [ 1546780138  1193343692   429823922 -1231380956 -1375312390 -1090147140\n",
      "   -440502398]]\n",
      "\n",
      "\t----Matriz inversa----\n",
      "\n",
      "[[ 5.92303573e-10  8.95030112e-11 -4.96422250e-10  8.31377219e-10\n",
      "   9.22019425e-11 -6.28342478e-10  7.81004384e-10]\n",
      " [ 8.95030112e-11 -5.52007222e-10  9.64327375e-10 -1.19933305e-10\n",
      "  -6.51339780e-10  9.40053969e-10 -1.97773656e-10]\n",
      " [-4.96422250e-10  9.64327375e-10 -1.46430152e-10 -6.05374608e-10\n",
      "   9.45231575e-10 -2.32706725e-10  4.34080934e-11]\n",
      " [ 8.31377219e-10 -1.19933305e-10 -6.05374608e-10  9.36413337e-10\n",
      "  -2.34128108e-10  5.11447972e-11 -9.54816353e-12]\n",
      " [ 9.22019425e-11 -6.51339780e-10  9.45231575e-10 -2.34128108e-10\n",
      "   5.18874032e-11 -1.13435014e-11  2.11723587e-12]\n",
      " [-6.28342478e-10  9.40053969e-10 -2.32706725e-10  5.11447972e-11\n",
      "  -1.13435014e-11  2.47937870e-12 -4.62804757e-13]\n",
      " [ 7.81004384e-10 -1.97773656e-10  4.34080934e-11 -9.54816353e-12\n",
      "   2.11723587e-12 -4.62804757e-13  8.63837411e-14]]\n",
      "\n",
      "\t----Solución----\n",
      "[ 2.48617264e+02 -5.47743365e+01  1.20228447e+01 -2.64453603e+00\n",
      "  5.86409335e-01 -1.28182496e-01  2.39256311e-02] \n",
      "\n",
      "El error del modelo es:  11429307.311491478\n"
     ]
    },
    {
     "data": {
      "text/plain": "<Figure size 432x288 with 1 Axes>",
      "image/png": "[encoded data removed]"
     },
     "metadata": {
      "needs_background": "light"
     },
     "output_type": "display_data"
    }
   ]
  },
  {
   "cell_type": "code",
   "source": [
    "# Estadistica\n",
    "regre_estadistico(C,D)"
   ],
   "metadata": {
    "colab": {
     "base_uri": "https://localhost:8080/",
     "height": 456
    },
    "id": "wPeyXcLPAPMH",
    "outputId": "e07d750e-a367-416b-ca17-6d020f9fc6ea",
    "pycharm": {
     "name": "#%%\n"
    }
   },
   "execution_count": 21,
   "outputs": [
    {
     "name": "stdout",
     "output_type": "stream",
     "text": [
      "Media x 18.0\n",
      "Media y 34.0\n",
      "La varianza de x es igual a:  10.099504938362077\n",
      "La desviación estandar de x es igual a:  10.099504938362077\n",
      "La varianza de y es igual a:  10.099504938362077\n",
      "La desviación estandar de y es igual a:  1.482661699203737\n",
      "La covarianza es igual a:  -14.882857142857144\n",
      "-0.9939033590998496\n",
      "La pendiente es:  -0.1459103641456583\n",
      "El intercepto b corresponde a:  36.62638655462185\n",
      "El error del modelo es:  0.16347051429422207\n"
     ]
    },
    {
     "data": {
      "text/plain": "<Figure size 432x288 with 1 Axes>",
      "image/png": "[encoded data removed]"
     },
     "metadata": {
      "needs_background": "light"
     },
     "output_type": "display_data"
    }
   ]
  }
 ]
}