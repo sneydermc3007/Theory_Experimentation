{
 "cells": [
  {
   "cell_type": "code",
   "execution_count": 35,
   "outputs": [
    {
     "ename": "ValueError",
     "evalue": "invalid literal for int() with base 10: ''",
     "output_type": "error",
     "traceback": [
      "\u001B[1;31m---------------------------------------------------------------------------\u001B[0m",
      "\u001B[1;31mValueError\u001B[0m                                Traceback (most recent call last)",
      "Input \u001B[1;32mIn [35]\u001B[0m, in \u001B[0;36m<cell line: 3>\u001B[1;34m()\u001B[0m\n\u001B[0;32m      1\u001B[0m \u001B[38;5;28;01mimport\u001B[39;00m \u001B[38;5;21;01mnumpy\u001B[39;00m \u001B[38;5;28;01mas\u001B[39;00m \u001B[38;5;21;01mnp\u001B[39;00m\n\u001B[1;32m----> 3\u001B[0m semilla \u001B[38;5;241m=\u001B[39m \u001B[38;5;28;43mint\u001B[39;49m\u001B[43m(\u001B[49m\u001B[38;5;28;43minput\u001B[39;49m\u001B[43m(\u001B[49m\u001B[38;5;124;43m\"\u001B[39;49m\u001B[38;5;124;43mIngrese una semilla para el aplicativo: \u001B[39;49m\u001B[38;5;124;43m\"\u001B[39;49m\u001B[43m)\u001B[49m\u001B[43m)\u001B[49m\n\u001B[0;32m      5\u001B[0m semilla_cuadrado \u001B[38;5;241m=\u001B[39m semilla\u001B[38;5;241m*\u001B[39m\u001B[38;5;241m*\u001B[39m\u001B[38;5;241m2\u001B[39m\n\u001B[0;32m      6\u001B[0m \u001B[38;5;28mprint\u001B[39m(\u001B[38;5;124mf\u001B[39m\u001B[38;5;124m\"\u001B[39m\u001B[38;5;124mLa semilla \u001B[39m\u001B[38;5;132;01m{\u001B[39;00msemilla\u001B[38;5;132;01m}\u001B[39;00m\u001B[38;5;124m al cuadrado tiene un valor de: \u001B[39m\u001B[38;5;132;01m{\u001B[39;00msemilla_cuadrado\u001B[38;5;132;01m}\u001B[39;00m\u001B[38;5;124m\"\u001B[39m)\n",
      "\u001B[1;31mValueError\u001B[0m: invalid literal for int() with base 10: ''"
     ]
    }
   ],
   "source": [
    "import numpy as np\n",
    "\n",
    "semilla = int(input(\"Ingrese una semilla para el aplicativo: \"))\n",
    "\n",
    "semilla_cuadrado = semilla**2\n",
    "print(f\"La semilla {semilla} al cuadrado tiene un valor de: {semilla_cuadrado}\")\n",
    "\n",
    "tamano = len(str(semilla_cuadrado))\n",
    "print(f\"El tamaño de la semilla ingresa al cuadrado es: {tamano}\")"
   ],
   "metadata": {
    "collapsed": false,
    "pycharm": {
     "name": "#%%\n"
    }
   }
  },
  {
   "cell_type": "code",
   "execution_count": 33,
   "outputs": [
    {
     "name": "stdout",
     "output_type": "stream",
     "text": [
      "El centro de la semilla es:  188\n"
     ]
    },
    {
     "data": {
      "text/plain": "int"
     },
     "execution_count": 33,
     "metadata": {},
     "output_type": "execute_result"
    }
   ],
   "source": [
    "mitad = (tamano / 2)\n",
    "\n",
    "centro = int(str(semilla_cuadrado)[int(mitad - 2):int(mitad + 2)])\n",
    "print(\"El centro de la semilla es: \", centro)\n",
    "type(centro)\n"
   ],
   "metadata": {
    "collapsed": false,
    "pycharm": {
     "name": "#%%\n"
    }
   }
  },
  {
   "cell_type": "code",
   "execution_count": 34,
   "outputs": [
    {
     "name": "stdout",
     "output_type": "stream",
     "text": [
      "El random es 0.0188\n",
      "\t\n",
      "La semilla 188 al cuadrado tiene un valor de: 35344\n",
      "El tamaño de la semilla actual al cuadrado es de: 5\n",
      "El centro de la semilla es:  3534\n",
      "El random es 0.3534\n",
      "\t\n",
      "La semilla 3534 al cuadrado tiene un valor de: 12489156\n",
      "El tamaño de la semilla actual al cuadrado es de: 8\n",
      "El centro de la semilla es:  4891\n",
      "El random es 0.4891\n",
      "\t\n",
      "La semilla 4891 al cuadrado tiene un valor de: 23921881\n",
      "El tamaño de la semilla actual al cuadrado es de: 8\n",
      "El centro de la semilla es:  9218\n",
      "El random es 0.9218\n",
      "\t\n",
      "La semilla 9218 al cuadrado tiene un valor de: 84971524\n",
      "El tamaño de la semilla actual al cuadrado es de: 8\n",
      "El centro de la semilla es:  9715\n",
      "El random es 0.9715\n",
      "\t\n",
      "La semilla 9715 al cuadrado tiene un valor de: 94381225\n",
      "El tamaño de la semilla actual al cuadrado es de: 8\n",
      "El centro de la semilla es:  3812\n",
      "El random es 0.3812\n",
      "\t\n",
      "La semilla 3812 al cuadrado tiene un valor de: 14531344\n",
      "El tamaño de la semilla actual al cuadrado es de: 8\n",
      "El centro de la semilla es:  5313\n",
      "El random es 0.5313\n",
      "\t\n",
      "La semilla 5313 al cuadrado tiene un valor de: 28227969\n",
      "El tamaño de la semilla actual al cuadrado es de: 8\n",
      "El centro de la semilla es:  2279\n",
      "El random es 0.2279\n",
      "\t\n",
      "La semilla 2279 al cuadrado tiene un valor de: 5193841\n",
      "El tamaño de la semilla actual al cuadrado es de: 7\n",
      "El centro de la semilla es:  1938\n",
      "El random es 0.1938\n",
      "\t\n",
      "La semilla 1938 al cuadrado tiene un valor de: 3755844\n",
      "El tamaño de la semilla actual al cuadrado es de: 7\n",
      "El centro de la semilla es:  7558\n",
      "El random es 0.7558\n",
      "\t\n",
      "La semilla 7558 al cuadrado tiene un valor de: 57123364\n",
      "El tamaño de la semilla actual al cuadrado es de: 8\n",
      "El centro de la semilla es:  1233\n",
      "El random es 0.1233\n",
      "\t\n",
      "La semilla 1233 al cuadrado tiene un valor de: 1520289\n",
      "El tamaño de la semilla actual al cuadrado es de: 7\n",
      "El centro de la semilla es:  5202\n",
      "Finaliza\n"
     ]
    }
   ],
   "source": [
    "index = 0\n",
    "while centro != 0000:\n",
    "    random = centro / 10000\n",
    "    print(f\"El random es {random}\")\n",
    "\n",
    "    semilla = centro\n",
    "    semilla_cuadrado = semilla**2\n",
    "    print(f\"\\t\\nLa semilla {semilla} al cuadrado tiene un valor de: {semilla_cuadrado}\")\n",
    "\n",
    "    tamano = len(str(semilla_cuadrado))\n",
    "    print(f\"El tamaño de la semilla actual al cuadrado es de: {tamano}\")\n",
    "\n",
    "    mitad = (tamano / 2)\n",
    "\n",
    "    centro = int(str(semilla_cuadrado)[int(mitad - 2):int(mitad + 2)])\n",
    "    print(\"El centro de la semilla es: \", centro)\n",
    "\n",
    "    index += 1"
   ],
   "metadata": {
    "collapsed": false,
    "pycharm": {
     "name": "#%%\n"
    }
   }
  },
  {
   "cell_type": "code",
   "execution_count": 34,
   "outputs": [],
   "source": [
    "print(f\"Se corrio la semilla {index}\")"
   ],
   "metadata": {
    "collapsed": false,
    "pycharm": {
     "name": "#%%\n"
    }
   }
  }
 ],
 "metadata": {
  "kernelspec": {
   "display_name": "Python 3",
   "language": "python",
   "name": "python3"
  },
  "language_info": {
   "codemirror_mode": {
    "name": "ipython",
    "version": 2
   },
   "file_extension": ".py",
   "mimetype": "text/x-python",
   "name": "python",
   "nbconvert_exporter": "python",
   "pygments_lexer": "ipython2",
   "version": "2.7.6"
  }
 },
 "nbformat": 4,
 "nbformat_minor": 0
}