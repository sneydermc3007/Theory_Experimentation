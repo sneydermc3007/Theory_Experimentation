{
 "cells": [
  {
   "cell_type": "markdown",
   "source": [
    "## Dataset 1\n",
    "\n",
    "### Dataset"
   ],
   "metadata": {
    "collapsed": false,
    "pycharm": {
     "name": "#%% md\n"
    }
   }
  },
  {
   "cell_type": "code",
   "execution_count": 1,
   "outputs": [
    {
     "data": {
      "text/plain": "Text(0.5, 1.0, 'Dataset 1')"
     },
     "execution_count": 1,
     "metadata": {},
     "output_type": "execute_result"
    },
    {
     "data": {
      "text/plain": "<Figure size 432x288 with 1 Axes>",
      "image/png": "[encoded data removed]"
     },
     "metadata": {
      "needs_background": "light"
     },
     "output_type": "display_data"
    }
   ],
   "source": [
    "import numpy as np\n",
    "import matplotlib.pyplot as plt\n",
    "\n",
    "X = np.array([3, 6, 9, 12, 15, 18])\n",
    "Y = np.array([14, 20, 26, 32, 38, 44])\n",
    "plt.plot(X, Y, '-b')\n",
    "plt.title('Dataset 1')"
   ],
   "metadata": {
    "collapsed": false,
    "pycharm": {
     "name": "#%%\n"
    }
   }
  },
  {
   "cell_type": "markdown",
   "source": [
    "### Interpolación"
   ],
   "metadata": {
    "collapsed": false,
    "pycharm": {
     "name": "#%% md\n"
    }
   }
  },
  {
   "cell_type": "code",
   "execution_count": 2,
   "outputs": [
    {
     "name": "stdout",
     "output_type": "stream",
     "text": [
      "Coordenadas:  4 , 16.0 cuando Xa es: 4\n",
      "Coordenadas:  5 , 18.0 cuando Xa es: 5\n",
      "Coordenadas:  7 , 22.0 cuando Xa es: 7\n",
      "Coordenadas:  8 , 24.0 cuando Xa es: 8\n",
      "Coordenadas:  10 , 28.0 cuando Xa es: 10\n"
     ]
    }
   ],
   "source": [
    "Xa0 = ([4, 5, 7, 8, 10])\n",
    "Ya0 = 0\n",
    "\n",
    "for x in Xa0:\n",
    "\n",
    "    if x == 4:\n",
    "        Ya0 = ((Y[1] - Y[0]) / (X[1] - X[0]) * (x - X[0]) ) + Y[0]\n",
    "        print('Coordenadas: ', x, ',', Ya0, 'cuando Xa es:', x)\n",
    "    elif x == 5:\n",
    "        Ya0 = ((Y[1] - Y[0]) / (X[1] - X[0]) * (x - X[0]) ) + Y[0]\n",
    "        print('Coordenadas: ', x, ',', Ya0, 'cuando Xa es:', x )\n",
    "    elif x == 7:\n",
    "        Ya0 = ((Y[2] - Y[1]) / (X[2] - X[1]) * (x - X[1]) ) + Y[1]\n",
    "        print('Coordenadas: ', x, ',', Ya0, 'cuando Xa es:', x )\n",
    "    elif x == 8:\n",
    "        Ya0 = ((Y[2] - Y[1]) / (X[2] - X[1]) * (x - X[1]) ) + Y[1]\n",
    "        print('Coordenadas: ', x, ',', Ya0, 'cuando Xa es:', x )\n",
    "    else:\n",
    "        Ya0 = ((Y[2] - Y[1]) / (X[2] - X[1]) * (x - X[1]) ) + Y[1]\n",
    "        print('Coordenadas: ', x, ',', Ya0, 'cuando Xa es:', x )\n"
   ],
   "metadata": {
    "collapsed": false,
    "pycharm": {
     "name": "#%%\n"
    }
   }
  },
  {
   "cell_type": "markdown",
   "source": [
    "### Modelo Matemático"
   ],
   "metadata": {
    "collapsed": false,
    "pycharm": {
     "name": "#%% md\n"
    }
   }
  },
  {
   "cell_type": "code",
   "execution_count": 3,
   "outputs": [
    {
     "name": "stdout",
     "output_type": "stream",
     "text": [
      "El Punto 1 es: (3, 14) y el punto 2: es: (18, 44)\n",
      "La pendiente con las coordenadas puestas es: 2.0\n",
      "\tEs una función creciente\n",
      "\n",
      " La ecuación de la recta es: 2.0x + 8.0\n"
     ]
    }
   ],
   "source": [
    "coords_1 = (X[0], Y[0])\n",
    "coords_2 = (X[5], Y[5])\n",
    "print(f'El Punto 1 es: {coords_1} y el punto 2: es: {coords_2}')\n",
    "\n",
    "pendiente = (coords_2[1] - coords_1[1]) / (coords_2[0] - coords_1[0])\n",
    "print(f'La pendiente con las coordenadas puestas es: {pendiente}')\n",
    "if pendiente > 0:\n",
    "    print('\\tEs una función creciente')\n",
    "else:\n",
    "    print('\\tFunción decreciente')\n",
    "\n",
    "t_independiente = coords_1[1] -  pendiente * coords_1[0]\n",
    "print(f'\\n La ecuación de la recta es: {pendiente}x + {t_independiente}')\n"
   ],
   "metadata": {
    "collapsed": false,
    "pycharm": {
     "name": "#%%\n"
    }
   }
  },
  {
   "cell_type": "markdown",
   "source": [
    "### Metrica de error"
   ],
   "metadata": {
    "collapsed": false,
    "pycharm": {
     "name": "#%% md\n"
    }
   }
  },
  {
   "cell_type": "code",
   "execution_count": 5,
   "outputs": [
    {
     "name": "stdout",
     "output_type": "stream",
     "text": [
      "0.0\n"
     ]
    }
   ],
   "source": [
    "ecua_recta = (pendiente * X )+ t_independiente\n",
    "\n",
    "Error = np.sqrt( sum((Y - ecua_recta)**2) / len(Y) )\n",
    "print(Error)"
   ],
   "metadata": {
    "collapsed": false,
    "pycharm": {
     "name": "#%%\n"
    }
   }
  },
  {
   "cell_type": "markdown",
   "source": [
    "## Dataset 2\n",
    "\n",
    "### Dataset"
   ],
   "metadata": {
    "collapsed": false,
    "pycharm": {
     "name": "#%% md\n"
    }
   }
  },
  {
   "cell_type": "code",
   "execution_count": 6,
   "outputs": [
    {
     "data": {
      "text/plain": "Text(0.5, 1.0, 'Dataset 2')"
     },
     "execution_count": 6,
     "metadata": {},
     "output_type": "execute_result"
    },
    {
     "data": {
      "text/plain": "<Figure size 432x288 with 1 Axes>",
      "image/png": "[encoded data removed]"
     },
     "metadata": {
      "needs_background": "light"
     },
     "output_type": "display_data"
    }
   ],
   "source": [
    "import numpy as np\n",
    "import matplotlib.pyplot as plt\n",
    "\n",
    "X = np.array([1, 2, 3, 4, 5, 6, 7, 8])\n",
    "Y = np.array([21, 35, 57, 87, 125, 171, 225, 287])\n",
    "plt.plot(X, Y, '-r')\n",
    "plt.title('Dataset 2')"
   ],
   "metadata": {
    "collapsed": false,
    "pycharm": {
     "name": "#%%\n"
    }
   }
  },
  {
   "cell_type": "markdown",
   "source": [
    "### Interpolación"
   ],
   "metadata": {
    "collapsed": false,
    "pycharm": {
     "name": "#%% md\n"
    }
   }
  },
  {
   "cell_type": "markdown",
   "source": [],
   "metadata": {
    "collapsed": false,
    "pycharm": {
     "name": "#%% md\n"
    }
   }
  },
  {
   "cell_type": "code",
   "execution_count": 8,
   "outputs": [
    {
     "name": "stdout",
     "output_type": "stream",
     "text": [
      "Coordenadas:  1.5 , 28.0 cuando Xa es: 1.5\n",
      "Coordenadas:  2.5 , 42.0 cuando Xa es: 2.5\n",
      "Coordenadas:  4.25 , 96.5 cuando Xa es: 4.25\n",
      "Coordenadas:  4.5 , 106.0 cuando Xa es: 4.5\n",
      "Coordenadas:  7.1 , 231.2 cuando Xa es: 7.1\n"
     ]
    }
   ],
   "source": [
    "Xa0 = ([1.5, 2.5, 4.25, 4.5, 7.10])\n",
    "Ya0 = 0\n",
    "\n",
    "for x in Xa0:\n",
    "\n",
    "    if x == 1.5:\n",
    "        Ya0 = ((Y[1] - Y[0]) / (X[1] - X[0]) * (x - X[0]) ) + Y[0]\n",
    "        print('Coordenadas: ', x, ',', Ya0, 'cuando Xa es:', x)\n",
    "    elif x == 2.5:\n",
    "        Ya0 = ((Y[1] - Y[0]) / (X[1] - X[0]) * (x - X[0]) ) + Y[0]\n",
    "        print('Coordenadas: ', x, ',', Ya0, 'cuando Xa es:', x )\n",
    "    elif x == 4.25:\n",
    "        Ya0 = ((Y[4] - Y[3]) / (X[4] - X[3]) * (x - X[3]) ) + Y[3]\n",
    "        print('Coordenadas: ', x, ',', Ya0, 'cuando Xa es:', x )\n",
    "    elif x == 4.5:\n",
    "        Ya0 = ((Y[4] - Y[3]) / (X[4] - X[3]) * (x - X[3]) ) + Y[3]\n",
    "        print('Coordenadas: ', x, ',', Ya0, 'cuando Xa es:', x )\n",
    "    else:\n",
    "        Ya0 = ((Y[7] - Y[6]) / (X[7] - X[6]) * (x - X[6]) ) + Y[6]\n",
    "        print('Coordenadas: ', x, ',', Ya0, 'cuando Xa es:', x )"
   ],
   "metadata": {
    "collapsed": false,
    "pycharm": {
     "name": "#%%\n"
    }
   }
  },
  {
   "cell_type": "markdown",
   "source": [
    "### Modelo Matemático"
   ],
   "metadata": {
    "collapsed": false,
    "pycharm": {
     "name": "#%% md\n"
    }
   }
  },
  {
   "cell_type": "code",
   "execution_count": 9,
   "outputs": [
    {
     "name": "stdout",
     "output_type": "stream",
     "text": [
      "El Punto 1 es: (2, 35) y el punto 2: es: (3, 57)\n",
      "La pendiente con las coordenadas puestas es: 22.0\n",
      "\tEs una función creciente\n",
      "\n",
      " La ecuación de la recta es: 22.0x + -9.0\n"
     ]
    }
   ],
   "source": [
    "coords_1 = (X[1], Y[1])\n",
    "coords_2 = (X[2], Y[2])\n",
    "print(f'El Punto 1 es: {coords_1} y el punto 2: es: {coords_2}')\n",
    "\n",
    "pendiente = (coords_2[1] - coords_1[1]) / (coords_2[0] - coords_1[0])\n",
    "print(f'La pendiente con las coordenadas puestas es: {pendiente}')\n",
    "if pendiente > 0:\n",
    "    print('\\tEs una función creciente')\n",
    "else:\n",
    "    print('\\tFunción decreciente')\n",
    "\n",
    "t_independiente = coords_1[1] -  pendiente * coords_1[0]\n",
    "print(f'\\n La ecuación de la recta es: {pendiente}x + {t_independiente}')"
   ],
   "metadata": {
    "collapsed": false,
    "pycharm": {
     "name": "#%%\n"
    }
   }
  },
  {
   "cell_type": "markdown",
   "source": [
    "### Metrica de error"
   ],
   "metadata": {
    "collapsed": false,
    "pycharm": {
     "name": "#%% md\n"
    }
   }
  },
  {
   "cell_type": "code",
   "execution_count": 10,
   "outputs": [
    {
     "name": "stdout",
     "output_type": "stream",
     "text": [
      "54.55272678794342\n"
     ]
    }
   ],
   "source": [
    "ecua_recta = (pendiente * X )+ t_independiente\n",
    "\n",
    "Error = np.sqrt( sum((Y - ecua_recta)**2) / len(Y) )\n",
    "print(Error)"
   ],
   "metadata": {
    "collapsed": false,
    "pycharm": {
     "name": "#%%\n"
    }
   }
  },
  {
   "cell_type": "markdown",
   "source": [
    "## Dataset 3\n",
    "\n",
    "### Dataset"
   ],
   "metadata": {
    "collapsed": false,
    "pycharm": {
     "name": "#%% md\n"
    }
   }
  },
  {
   "cell_type": "code",
   "execution_count": 13,
   "outputs": [
    {
     "data": {
      "text/plain": "Text(0.5, 1.0, 'Dataset 2')"
     },
     "execution_count": 13,
     "metadata": {},
     "output_type": "execute_result"
    },
    {
     "data": {
      "text/plain": "<Figure size 432x288 with 1 Axes>",
      "image/png": "[encoded data removed]"
     },
     "metadata": {
      "needs_background": "light"
     },
     "output_type": "display_data"
    }
   ],
   "source": [
    "import numpy as np\n",
    "import matplotlib.pyplot as plt\n",
    "\n",
    "X = np.array([1.5, 2.5, 3.5, 4.5, 5.5, 6.5, 7.5, 8.5])\n",
    "Y = np.array([-0.5, 4.5, 9.5, 14.5, 19.5, 24.5, 29.5, 34.5])\n",
    "plt.plot(X, Y, '-m')\n",
    "plt.title('Dataset 2')"
   ],
   "metadata": {
    "collapsed": false,
    "pycharm": {
     "name": "#%%\n"
    }
   }
  },
  {
   "cell_type": "markdown",
   "source": [
    "### Interpolación"
   ],
   "metadata": {
    "collapsed": false,
    "pycharm": {
     "name": "#%% md\n"
    }
   }
  },
  {
   "cell_type": "code",
   "execution_count": 14,
   "outputs": [
    {
     "name": "stdout",
     "output_type": "stream",
     "text": [
      "Coordenadas:  2 , 2.0 cuando Xa es: 2\n",
      "Coordenadas:  3 , 7.0 cuando Xa es: 3\n",
      "Coordenadas:  3.25 , 8.25 cuando Xa es: 3.25\n",
      "Coordenadas:  5 , 17.0 cuando Xa es: 5\n",
      "Coordenadas:  7.1 , 27.5 cuando Xa es: 7.1\n"
     ]
    }
   ],
   "source": [
    "Xa0 = ([2, 3, 3.25, 5, 7.10])\n",
    "Ya0 = 0\n",
    "\n",
    "for x in Xa0:\n",
    "\n",
    "    if x == 2:\n",
    "        Ya0 = ((Y[1] - Y[0]) / (X[1] - X[0]) * (x - X[0]) ) + Y[0]\n",
    "        print('Coordenadas: ', x, ',', Ya0, 'cuando Xa es:', x)\n",
    "    elif x == 3:\n",
    "        Ya0 = ((Y[2] - Y[1]) / (X[2] - X[1]) * (x - X[1]) ) + Y[1]\n",
    "        print('Coordenadas: ', x, ',', Ya0, 'cuando Xa es:', x )\n",
    "    elif x == 3.25:\n",
    "        Ya0 = ((Y[2] - Y[1]) / (X[2] - X[1]) * (x - X[1]) ) + Y[1]\n",
    "        print('Coordenadas: ', x, ',', Ya0, 'cuando Xa es:', x )\n",
    "    elif x == 5:\n",
    "        Ya0 = ((Y[4] - Y[3]) / (X[4] - X[3]) * (x - X[3]) ) + Y[3]\n",
    "        print('Coordenadas: ', x, ',', Ya0, 'cuando Xa es:', x )\n",
    "    else:\n",
    "        Ya0 = ((Y[6] - Y[5]) / (X[6] - X[5]) * (x - X[5]) ) + Y[5]\n",
    "        print('Coordenadas: ', x, ',', Ya0, 'cuando Xa es:', x )"
   ],
   "metadata": {
    "collapsed": false,
    "pycharm": {
     "name": "#%%\n"
    }
   }
  },
  {
   "cell_type": "markdown",
   "source": [
    "### Modelo Matemático"
   ],
   "metadata": {
    "collapsed": false,
    "pycharm": {
     "name": "#%% md\n"
    }
   }
  },
  {
   "cell_type": "code",
   "execution_count": 16,
   "outputs": [
    {
     "name": "stdout",
     "output_type": "stream",
     "text": [
      "El Punto 1 es: (6.5, 24.5) y el punto 2: es: (1.5, -0.5)\n",
      "La pendiente con las coordenadas puestas es: 5.0\n",
      "\tEs una función creciente\n",
      "\n",
      " La ecuación de la recta es: 5.0x + -8.0\n"
     ]
    }
   ],
   "source": [
    "coords_1 = (X[5], Y[5])\n",
    "coords_2 = (X[0], Y[0])\n",
    "print(f'El Punto 1 es: {coords_1} y el punto 2: es: {coords_2}')\n",
    "\n",
    "pendiente = (coords_2[1] - coords_1[1]) / (coords_2[0] - coords_1[0])\n",
    "print(f'La pendiente con las coordenadas puestas es: {pendiente}')\n",
    "if pendiente > 0:\n",
    "    print('\\tEs una función creciente')\n",
    "else:\n",
    "    print('\\tFunción decreciente')\n",
    "\n",
    "t_independiente = coords_1[1] -  pendiente * coords_1[0]\n",
    "print(f'\\n La ecuación de la recta es: {pendiente}x + {t_independiente}')"
   ],
   "metadata": {
    "collapsed": false,
    "pycharm": {
     "name": "#%%\n"
    }
   }
  },
  {
   "cell_type": "markdown",
   "source": [
    "### Metrica de error"
   ],
   "metadata": {
    "collapsed": false,
    "pycharm": {
     "name": "#%% md\n"
    }
   }
  },
  {
   "cell_type": "code",
   "execution_count": 17,
   "outputs": [
    {
     "name": "stdout",
     "output_type": "stream",
     "text": [
      "0.0\n"
     ]
    }
   ],
   "source": [
    "ecua_recta = (pendiente * X )+ t_independiente\n",
    "\n",
    "Error = np.sqrt( sum((Y - ecua_recta)**2) / len(Y) )\n",
    "print(Error)"
   ],
   "metadata": {
    "collapsed": false,
    "pycharm": {
     "name": "#%%\n"
    }
   }
  }
 ],
 "metadata": {
  "kernelspec": {
   "display_name": "Python 3",
   "language": "python",
   "name": "python3"
  },
  "language_info": {
   "codemirror_mode": {
    "name": "ipython",
    "version": 2
   },
   "file_extension": ".py",
   "mimetype": "text/x-python",
   "name": "python",
   "nbconvert_exporter": "python",
   "pygments_lexer": "ipython2",
   "version": "2.7.6"
  }
 },
 "nbformat": 4,
 "nbformat_minor": 0
}